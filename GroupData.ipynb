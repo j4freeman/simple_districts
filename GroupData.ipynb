{
 "cells": [
  {
   "cell_type": "code",
   "execution_count": 1,
   "metadata": {
    "ExecuteTime": {
     "end_time": "2019-12-04T22:03:13.442995Z",
     "start_time": "2019-12-04T22:03:11.102231Z"
    }
   },
   "outputs": [],
   "source": [
    "import pandas as pd\n",
    "import numpy as np\n",
    "\n",
    "import matplotlib.pyplot as plt\n",
    "\n",
    "import geopandas\n",
    "\n",
    "from IPython.display import Image, Audio, clear_output\n",
    "\n",
    "import os\n",
    "\n",
    "import re\n",
    "from textblob import TextBlob\n",
    "\n",
    "import pysal as ps\n",
    "\n",
    "import pickle\n",
    "\n",
    "from shapely.geometry import shape, Point\n",
    "from shapely import geometry\n",
    "\n",
    "from ast import literal_eval as make_tuple\n",
    "\n",
    "from sklearn import preprocessing\n",
    "import sklearn.decomposition\n",
    "\n",
    "from zipfile import ZipFile\n",
    "\n",
    "from tqdm import tnrange, tqdm_notebook\n",
    "\n",
    "import dask.dataframe as dd\n",
    "from dask.diagnostics import ProgressBar\n",
    "\n",
    "from notify_run import Notify\n",
    "\n",
    "import torch\n",
    "\n",
    "base_path = \"lawrence_leavenworth\"\n",
    "\n",
    "%matplotlib inline"
   ]
  },
  {
   "cell_type": "code",
   "execution_count": 2,
   "metadata": {
    "ExecuteTime": {
     "end_time": "2019-12-04T22:03:13.652641Z",
     "start_time": "2019-12-04T22:03:13.445954Z"
    }
   },
   "outputs": [],
   "source": [
    "# tracts = geopandas.read_file(\"tiger_shapes/\")\n",
    "tracts = geopandas.read_file('tiger_groups/')"
   ]
  },
  {
   "cell_type": "code",
   "execution_count": 3,
   "metadata": {
    "ExecuteTime": {
     "end_time": "2019-12-04T22:03:13.658423Z",
     "start_time": "2019-12-04T22:03:13.653394Z"
    }
   },
   "outputs": [
    {
     "data": {
      "text/plain": [
       "(2351, 13)"
      ]
     },
     "execution_count": 3,
     "metadata": {},
     "output_type": "execute_result"
    }
   ],
   "source": [
    "tracts.shape"
   ]
  },
  {
   "cell_type": "code",
   "execution_count": 4,
   "metadata": {
    "ExecuteTime": {
     "end_time": "2019-12-04T22:03:13.693287Z",
     "start_time": "2019-12-04T22:03:13.660388Z"
    }
   },
   "outputs": [
    {
     "data": {
      "text/html": [
       "<div>\n",
       "<style scoped>\n",
       "    .dataframe tbody tr th:only-of-type {\n",
       "        vertical-align: middle;\n",
       "    }\n",
       "\n",
       "    .dataframe tbody tr th {\n",
       "        vertical-align: top;\n",
       "    }\n",
       "\n",
       "    .dataframe thead th {\n",
       "        text-align: right;\n",
       "    }\n",
       "</style>\n",
       "<table border=\"1\" class=\"dataframe\">\n",
       "  <thead>\n",
       "    <tr style=\"text-align: right;\">\n",
       "      <th></th>\n",
       "      <th>STATEFP</th>\n",
       "      <th>COUNTYFP</th>\n",
       "      <th>TRACTCE</th>\n",
       "      <th>BLKGRPCE</th>\n",
       "      <th>GEOID</th>\n",
       "      <th>NAMELSAD</th>\n",
       "      <th>MTFCC</th>\n",
       "      <th>FUNCSTAT</th>\n",
       "      <th>ALAND</th>\n",
       "      <th>AWATER</th>\n",
       "      <th>INTPTLAT</th>\n",
       "      <th>INTPTLON</th>\n",
       "      <th>geometry</th>\n",
       "    </tr>\n",
       "  </thead>\n",
       "  <tbody>\n",
       "    <tr>\n",
       "      <th>0</th>\n",
       "      <td>20</td>\n",
       "      <td>205</td>\n",
       "      <td>097300</td>\n",
       "      <td>2</td>\n",
       "      <td>202050973002</td>\n",
       "      <td>Block Group 2</td>\n",
       "      <td>G5030</td>\n",
       "      <td>S</td>\n",
       "      <td>12265130</td>\n",
       "      <td>123713</td>\n",
       "      <td>+37.5320365</td>\n",
       "      <td>-095.8438527</td>\n",
       "      <td>POLYGON ((-95.87000999999999 37.539666, -95.86...</td>\n",
       "    </tr>\n",
       "    <tr>\n",
       "      <th>1</th>\n",
       "      <td>20</td>\n",
       "      <td>137</td>\n",
       "      <td>951700</td>\n",
       "      <td>3</td>\n",
       "      <td>201379517003</td>\n",
       "      <td>Block Group 3</td>\n",
       "      <td>G5030</td>\n",
       "      <td>S</td>\n",
       "      <td>1683677</td>\n",
       "      <td>0</td>\n",
       "      <td>+39.8322507</td>\n",
       "      <td>-099.8975827</td>\n",
       "      <td>POLYGON ((-99.91362199999999 39.82805, -99.912...</td>\n",
       "    </tr>\n",
       "    <tr>\n",
       "      <th>2</th>\n",
       "      <td>20</td>\n",
       "      <td>137</td>\n",
       "      <td>951700</td>\n",
       "      <td>1</td>\n",
       "      <td>201379517001</td>\n",
       "      <td>Block Group 1</td>\n",
       "      <td>G5030</td>\n",
       "      <td>S</td>\n",
       "      <td>267077152</td>\n",
       "      <td>0</td>\n",
       "      <td>+39.8554657</td>\n",
       "      <td>-099.7448026</td>\n",
       "      <td>POLYGON ((-99.85198 39.770469, -99.85183099999...</td>\n",
       "    </tr>\n",
       "    <tr>\n",
       "      <th>3</th>\n",
       "      <td>20</td>\n",
       "      <td>137</td>\n",
       "      <td>951700</td>\n",
       "      <td>2</td>\n",
       "      <td>201379517002</td>\n",
       "      <td>Block Group 2</td>\n",
       "      <td>G5030</td>\n",
       "      <td>S</td>\n",
       "      <td>33200975</td>\n",
       "      <td>0</td>\n",
       "      <td>+39.8521347</td>\n",
       "      <td>-099.9015382</td>\n",
       "      <td>POLYGON ((-99.945278 39.840666, -99.945252 39....</td>\n",
       "    </tr>\n",
       "    <tr>\n",
       "      <th>4</th>\n",
       "      <td>20</td>\n",
       "      <td>137</td>\n",
       "      <td>951700</td>\n",
       "      <td>5</td>\n",
       "      <td>201379517005</td>\n",
       "      <td>Block Group 5</td>\n",
       "      <td>G5030</td>\n",
       "      <td>S</td>\n",
       "      <td>1923579801</td>\n",
       "      <td>8421464</td>\n",
       "      <td>+39.5762745</td>\n",
       "      <td>-100.1843757</td>\n",
       "      <td>POLYGON ((-100.180456 39.577752, -100.180423 3...</td>\n",
       "    </tr>\n",
       "  </tbody>\n",
       "</table>\n",
       "</div>"
      ],
      "text/plain": [
       "  STATEFP COUNTYFP TRACTCE BLKGRPCE         GEOID       NAMELSAD  MTFCC  \\\n",
       "0      20      205  097300        2  202050973002  Block Group 2  G5030   \n",
       "1      20      137  951700        3  201379517003  Block Group 3  G5030   \n",
       "2      20      137  951700        1  201379517001  Block Group 1  G5030   \n",
       "3      20      137  951700        2  201379517002  Block Group 2  G5030   \n",
       "4      20      137  951700        5  201379517005  Block Group 5  G5030   \n",
       "\n",
       "  FUNCSTAT       ALAND   AWATER     INTPTLAT      INTPTLON  \\\n",
       "0        S    12265130   123713  +37.5320365  -095.8438527   \n",
       "1        S     1683677        0  +39.8322507  -099.8975827   \n",
       "2        S   267077152        0  +39.8554657  -099.7448026   \n",
       "3        S    33200975        0  +39.8521347  -099.9015382   \n",
       "4        S  1923579801  8421464  +39.5762745  -100.1843757   \n",
       "\n",
       "                                            geometry  \n",
       "0  POLYGON ((-95.87000999999999 37.539666, -95.86...  \n",
       "1  POLYGON ((-99.91362199999999 39.82805, -99.912...  \n",
       "2  POLYGON ((-99.85198 39.770469, -99.85183099999...  \n",
       "3  POLYGON ((-99.945278 39.840666, -99.945252 39....  \n",
       "4  POLYGON ((-100.180456 39.577752, -100.180423 3...  "
      ]
     },
     "execution_count": 4,
     "metadata": {},
     "output_type": "execute_result"
    }
   ],
   "source": [
    "tracts.head()"
   ]
  },
  {
   "cell_type": "code",
   "execution_count": 5,
   "metadata": {
    "ExecuteTime": {
     "end_time": "2019-12-04T22:03:13.754169Z",
     "start_time": "2019-12-04T22:03:13.694284Z"
    }
   },
   "outputs": [],
   "source": [
    "ksdata = pd.read_csv('nhgis0006_csv/nhgis0006_ds172_2010_blck_grp.csv', low_memory=False)"
   ]
  },
  {
   "cell_type": "code",
   "execution_count": 6,
   "metadata": {
    "ExecuteTime": {
     "end_time": "2019-12-04T22:03:13.761106Z",
     "start_time": "2019-12-04T22:03:13.755154Z"
    }
   },
   "outputs": [
    {
     "data": {
      "text/plain": [
       "{'GISJOIN': 'GIS Join Match Code',\n",
       " 'YEAR': 'Data File Year',\n",
       " 'REGIONA': 'Region Code',\n",
       " 'DIVISIONA': 'Division Code',\n",
       " 'STATE': 'State Name',\n",
       " 'STATEA': 'State Code',\n",
       " 'COUNTY': 'County Name',\n",
       " 'COUNTYA': 'County Code',\n",
       " 'COUSUBA': 'County Subdivision Code',\n",
       " 'PLACEA': 'Place Code',\n",
       " 'TRACTA': 'Census Tract Code',\n",
       " 'BLKGRPA': 'Block Group Code',\n",
       " 'BLOCKA': 'Block Code',\n",
       " 'CONCITA': 'Consolidated City Code',\n",
       " 'RES_ONLYA': 'American Indian Reservation with Trust Lands; reservation only Code',\n",
       " 'TRUSTA': 'American Indian Reservation with Trust Lands; trust lands only Code',\n",
       " 'AIANHHA': 'American Indian Area/Alaska Native Area/Hawaiian Home Land Code',\n",
       " 'AITSCEA': 'Tribal Subdivision/Remainder Code',\n",
       " 'TTRACTA': 'Tribal Census Tract Code',\n",
       " 'TBLKGRPA': 'Tribal Block Group Code',\n",
       " 'ANRCA': 'Alaska Native Regional Corporation Code',\n",
       " 'CBSAA': 'Metropolitan Statistical Area/Micropolitan Statistical Area Code',\n",
       " 'METDIVA': 'Metropolitan Division Code',\n",
       " 'CSAA': 'Combined Statistical Area Code',\n",
       " 'NECTAA': 'New England City and Town Area Code',\n",
       " 'NECTADIVA': 'NECTA Division Code',\n",
       " 'CNECTAA': 'Combined New England City and Town Area Code',\n",
       " 'UAA': 'Urban Area Code',\n",
       " 'URBRURALA': 'Urban/Rural Code',\n",
       " 'CDA': 'Congressional District (111th Congress) Code',\n",
       " 'SLDUA': 'State Legislative District (Upper Chamber) Code',\n",
       " 'SLDLA': 'State Legislative District (Lower Chamber) Code',\n",
       " 'ZCTA5A': '5-Digit Zip Code Tabulation Area Code',\n",
       " 'SUBMCDA': 'Subminor Civil Division Code',\n",
       " 'SDELMA': 'School District (Elementary)/Remainder Code',\n",
       " 'SDSECA': 'School District (Secondary)/Remainder Code',\n",
       " 'SDUNIA': 'School District (Unified)/Remainder Code',\n",
       " 'NAME': 'Area Name-Legal/Statistical Area Description (LSAD) Term-Part Indicator',\n",
       " 'SABINSA': 'School Attendance Area Code',\n",
       " 'H7V001': 'Total',\n",
       " 'H7W001': 'Total',\n",
       " 'H7W002': 'Urban',\n",
       " 'H7W003': 'Urban: Inside urbanized areas',\n",
       " 'H7W004': 'Urban: Inside urban clusters',\n",
       " 'H7W005': 'Rural',\n",
       " 'H7W006': 'Not defined for this file',\n",
       " 'H7Z001': 'Total',\n",
       " 'H7Z002': 'Not Hispanic or Latino',\n",
       " 'H7Z003': 'Not Hispanic or Latino: White alone',\n",
       " 'H7Z004': 'Not Hispanic or Latino: Black or African American alone',\n",
       " 'H7Z005': 'Not Hispanic or Latino: American Indian and Alaska Native alone',\n",
       " 'H7Z006': 'Not Hispanic or Latino: Asian alone',\n",
       " 'H7Z007': 'Not Hispanic or Latino: Native Hawaiian and Other Pacific Islander alone',\n",
       " 'H7Z008': 'Not Hispanic or Latino: Some Other Race alone',\n",
       " 'H7Z009': 'Not Hispanic or Latino: Two or More Races',\n",
       " 'H7Z010': 'Hispanic or Latino',\n",
       " 'H7Z011': 'Hispanic or Latino: White alone',\n",
       " 'H7Z012': 'Hispanic or Latino: Black or African American alone',\n",
       " 'H7Z013': 'Hispanic or Latino: American Indian and Alaska Native alone',\n",
       " 'H7Z014': 'Hispanic or Latino: Asian alone',\n",
       " 'H7Z015': 'Hispanic or Latino: Native Hawaiian and Other Pacific Islander alone',\n",
       " 'H7Z016': 'Hispanic or Latino: Some Other Race alone',\n",
       " 'H7Z017': 'Hispanic or Latino: Two or More Races',\n",
       " 'H76001': 'Total',\n",
       " 'H76002': 'Male',\n",
       " 'H76003': 'Male: Under 5 years',\n",
       " 'H76004': 'Male: 5 to 9 years',\n",
       " 'H76005': 'Male: 10 to 14 years',\n",
       " 'H76006': 'Male: 15 to 17 years',\n",
       " 'H76007': 'Male: 18 and 19 years',\n",
       " 'H76008': 'Male: 20 years',\n",
       " 'H76009': 'Male: 21 years',\n",
       " 'H76010': 'Male: 22 to 24 years',\n",
       " 'H76011': 'Male: 25 to 29 years',\n",
       " 'H76012': 'Male: 30 to 34 years',\n",
       " 'H76013': 'Male: 35 to 39 years',\n",
       " 'H76014': 'Male: 40 to 44 years',\n",
       " 'H76015': 'Male: 45 to 49 years',\n",
       " 'H76016': 'Male: 50 to 54 years',\n",
       " 'H76017': 'Male: 55 to 59 years',\n",
       " 'H76018': 'Male: 60 and 61 years',\n",
       " 'H76019': 'Male: 62 to 64 years',\n",
       " 'H76020': 'Male: 65 and 66 years',\n",
       " 'H76021': 'Male: 67 to 69 years',\n",
       " 'H76022': 'Male: 70 to 74 years',\n",
       " 'H76023': 'Male: 75 to 79 years',\n",
       " 'H76024': 'Male: 80 to 84 years',\n",
       " 'H76025': 'Male: 85 years and over',\n",
       " 'H76026': 'Female',\n",
       " 'H76027': 'Female: Under 5 years',\n",
       " 'H76028': 'Female: 5 to 9 years',\n",
       " 'H76029': 'Female: 10 to 14 years',\n",
       " 'H76030': 'Female: 15 to 17 years',\n",
       " 'H76031': 'Female: 18 and 19 years',\n",
       " 'H76032': 'Female: 20 years',\n",
       " 'H76033': 'Female: 21 years',\n",
       " 'H76034': 'Female: 22 to 24 years',\n",
       " 'H76035': 'Female: 25 to 29 years',\n",
       " 'H76036': 'Female: 30 to 34 years',\n",
       " 'H76037': 'Female: 35 to 39 years',\n",
       " 'H76038': 'Female: 40 to 44 years',\n",
       " 'H76039': 'Female: 45 to 49 years',\n",
       " 'H76040': 'Female: 50 to 54 years',\n",
       " 'H76041': 'Female: 55 to 59 years',\n",
       " 'H76042': 'Female: 60 and 61 years',\n",
       " 'H76043': 'Female: 62 to 64 years',\n",
       " 'H76044': 'Female: 65 and 66 years',\n",
       " 'H76045': 'Female: 67 to 69 years',\n",
       " 'H76046': 'Female: 70 to 74 years',\n",
       " 'H76047': 'Female: 75 to 79 years',\n",
       " 'H76048': 'Female: 80 to 84 years',\n",
       " 'H76049': 'Female: 85 years and over'}"
      ]
     },
     "execution_count": 6,
     "metadata": {},
     "output_type": "execute_result"
    }
   ],
   "source": [
    "keys = {}\n",
    "\n",
    "# with open(\"NC/nhgis0008_csv/nhgis0008_ds172_2010_blck_grp_codebook.txt\", \"r\") as labels:\n",
    "with open(\"nhgis0006_csv/codebook_processed.txt\", \"r\") as labels:\n",
    "    for line in labels:\n",
    "        formatted = line.split(\":\", 1)\n",
    "        key = formatted[0].strip()\n",
    "        val = formatted[1].strip()\n",
    "        keys[key] = val\n",
    "        \n",
    "keys"
   ]
  },
  {
   "cell_type": "code",
   "execution_count": 7,
   "metadata": {
    "ExecuteTime": {
     "end_time": "2019-12-04T22:03:13.824974Z",
     "start_time": "2019-12-04T22:03:13.762104Z"
    }
   },
   "outputs": [
    {
     "data": {
      "text/plain": [
       "(2351, 113)"
      ]
     },
     "execution_count": 7,
     "metadata": {},
     "output_type": "execute_result"
    }
   ],
   "source": [
    "ksdata[\"GEOID\"] = ksdata.apply(lambda x: x[\"GISJOIN\"][1:2] + x[\"GISJOIN\"][3:7] + x[\"GISJOIN\"][8:], axis=1)\n",
    "# ksdata['GEOID'] = ksdata['GEOID10']\n",
    "\n",
    "ksdata.shape"
   ]
  },
  {
   "cell_type": "code",
   "execution_count": 8,
   "metadata": {
    "ExecuteTime": {
     "end_time": "2019-12-04T22:03:13.831916Z",
     "start_time": "2019-12-04T22:03:13.825932Z"
    }
   },
   "outputs": [
    {
     "data": {
      "text/plain": [
       "(2351, 13)"
      ]
     },
     "execution_count": 8,
     "metadata": {},
     "output_type": "execute_result"
    }
   ],
   "source": [
    "# joined = tracts.merge(ksdata, how='left', on='GEOID10')\n",
    "\n",
    "tracts = tracts.sort_values(\"GEOID\")\n",
    "\n",
    "tracts.shape"
   ]
  },
  {
   "cell_type": "code",
   "execution_count": 9,
   "metadata": {
    "ExecuteTime": {
     "end_time": "2019-12-04T22:03:13.865826Z",
     "start_time": "2019-12-04T22:03:13.832913Z"
    }
   },
   "outputs": [
    {
     "data": {
      "text/html": [
       "<div>\n",
       "<style scoped>\n",
       "    .dataframe tbody tr th:only-of-type {\n",
       "        vertical-align: middle;\n",
       "    }\n",
       "\n",
       "    .dataframe tbody tr th {\n",
       "        vertical-align: top;\n",
       "    }\n",
       "\n",
       "    .dataframe thead th {\n",
       "        text-align: right;\n",
       "    }\n",
       "</style>\n",
       "<table border=\"1\" class=\"dataframe\">\n",
       "  <thead>\n",
       "    <tr style=\"text-align: right;\">\n",
       "      <th></th>\n",
       "      <th>STATEFP</th>\n",
       "      <th>COUNTYFP</th>\n",
       "      <th>TRACTCE</th>\n",
       "      <th>BLKGRPCE</th>\n",
       "      <th>GEOID</th>\n",
       "      <th>NAMELSAD</th>\n",
       "      <th>MTFCC</th>\n",
       "      <th>FUNCSTAT</th>\n",
       "      <th>ALAND</th>\n",
       "      <th>AWATER</th>\n",
       "      <th>...</th>\n",
       "      <th>H76040</th>\n",
       "      <th>H76041</th>\n",
       "      <th>H76042</th>\n",
       "      <th>H76043</th>\n",
       "      <th>H76044</th>\n",
       "      <th>H76045</th>\n",
       "      <th>H76046</th>\n",
       "      <th>H76047</th>\n",
       "      <th>H76048</th>\n",
       "      <th>H76049</th>\n",
       "    </tr>\n",
       "  </thead>\n",
       "  <tbody>\n",
       "    <tr>\n",
       "      <th>0</th>\n",
       "      <td>20</td>\n",
       "      <td>001</td>\n",
       "      <td>952600</td>\n",
       "      <td>1</td>\n",
       "      <td>200019526001</td>\n",
       "      <td>Block Group 1</td>\n",
       "      <td>G5030</td>\n",
       "      <td>S</td>\n",
       "      <td>701604844</td>\n",
       "      <td>4345778</td>\n",
       "      <td>...</td>\n",
       "      <td>76</td>\n",
       "      <td>82</td>\n",
       "      <td>34</td>\n",
       "      <td>29</td>\n",
       "      <td>20</td>\n",
       "      <td>33</td>\n",
       "      <td>47</td>\n",
       "      <td>43</td>\n",
       "      <td>36</td>\n",
       "      <td>45</td>\n",
       "    </tr>\n",
       "    <tr>\n",
       "      <th>1</th>\n",
       "      <td>20</td>\n",
       "      <td>001</td>\n",
       "      <td>952700</td>\n",
       "      <td>1</td>\n",
       "      <td>200019527001</td>\n",
       "      <td>Block Group 1</td>\n",
       "      <td>G5030</td>\n",
       "      <td>S</td>\n",
       "      <td>208834197</td>\n",
       "      <td>1948759</td>\n",
       "      <td>...</td>\n",
       "      <td>61</td>\n",
       "      <td>36</td>\n",
       "      <td>17</td>\n",
       "      <td>19</td>\n",
       "      <td>10</td>\n",
       "      <td>17</td>\n",
       "      <td>35</td>\n",
       "      <td>17</td>\n",
       "      <td>13</td>\n",
       "      <td>10</td>\n",
       "    </tr>\n",
       "    <tr>\n",
       "      <th>2</th>\n",
       "      <td>20</td>\n",
       "      <td>001</td>\n",
       "      <td>952700</td>\n",
       "      <td>2</td>\n",
       "      <td>200019527002</td>\n",
       "      <td>Block Group 2</td>\n",
       "      <td>G5030</td>\n",
       "      <td>S</td>\n",
       "      <td>30850689</td>\n",
       "      <td>379388</td>\n",
       "      <td>...</td>\n",
       "      <td>41</td>\n",
       "      <td>40</td>\n",
       "      <td>21</td>\n",
       "      <td>18</td>\n",
       "      <td>11</td>\n",
       "      <td>13</td>\n",
       "      <td>22</td>\n",
       "      <td>19</td>\n",
       "      <td>24</td>\n",
       "      <td>10</td>\n",
       "    </tr>\n",
       "    <tr>\n",
       "      <th>3</th>\n",
       "      <td>20</td>\n",
       "      <td>001</td>\n",
       "      <td>952800</td>\n",
       "      <td>1</td>\n",
       "      <td>200019528001</td>\n",
       "      <td>Block Group 1</td>\n",
       "      <td>G5030</td>\n",
       "      <td>S</td>\n",
       "      <td>12210392</td>\n",
       "      <td>281446</td>\n",
       "      <td>...</td>\n",
       "      <td>50</td>\n",
       "      <td>44</td>\n",
       "      <td>14</td>\n",
       "      <td>26</td>\n",
       "      <td>9</td>\n",
       "      <td>24</td>\n",
       "      <td>25</td>\n",
       "      <td>19</td>\n",
       "      <td>26</td>\n",
       "      <td>40</td>\n",
       "    </tr>\n",
       "    <tr>\n",
       "      <th>4</th>\n",
       "      <td>20</td>\n",
       "      <td>001</td>\n",
       "      <td>952800</td>\n",
       "      <td>2</td>\n",
       "      <td>200019528002</td>\n",
       "      <td>Block Group 2</td>\n",
       "      <td>G5030</td>\n",
       "      <td>S</td>\n",
       "      <td>18136994</td>\n",
       "      <td>183991</td>\n",
       "      <td>...</td>\n",
       "      <td>59</td>\n",
       "      <td>44</td>\n",
       "      <td>19</td>\n",
       "      <td>22</td>\n",
       "      <td>11</td>\n",
       "      <td>28</td>\n",
       "      <td>25</td>\n",
       "      <td>34</td>\n",
       "      <td>37</td>\n",
       "      <td>44</td>\n",
       "    </tr>\n",
       "  </tbody>\n",
       "</table>\n",
       "<p>5 rows × 125 columns</p>\n",
       "</div>"
      ],
      "text/plain": [
       "  STATEFP COUNTYFP TRACTCE BLKGRPCE         GEOID       NAMELSAD  MTFCC  \\\n",
       "0      20      001  952600        1  200019526001  Block Group 1  G5030   \n",
       "1      20      001  952700        1  200019527001  Block Group 1  G5030   \n",
       "2      20      001  952700        2  200019527002  Block Group 2  G5030   \n",
       "3      20      001  952800        1  200019528001  Block Group 1  G5030   \n",
       "4      20      001  952800        2  200019528002  Block Group 2  G5030   \n",
       "\n",
       "  FUNCSTAT      ALAND   AWATER  ...   H76040 H76041 H76042 H76043  H76044  \\\n",
       "0        S  701604844  4345778  ...       76     82     34     29      20   \n",
       "1        S  208834197  1948759  ...       61     36     17     19      10   \n",
       "2        S   30850689   379388  ...       41     40     21     18      11   \n",
       "3        S   12210392   281446  ...       50     44     14     26       9   \n",
       "4        S   18136994   183991  ...       59     44     19     22      11   \n",
       "\n",
       "   H76045  H76046 H76047  H76048 H76049  \n",
       "0      33      47     43      36     45  \n",
       "1      17      35     17      13     10  \n",
       "2      13      22     19      24     10  \n",
       "3      24      25     19      26     40  \n",
       "4      28      25     34      37     44  \n",
       "\n",
       "[5 rows x 125 columns]"
      ]
     },
     "execution_count": 9,
     "metadata": {},
     "output_type": "execute_result"
    }
   ],
   "source": [
    "joined = tracts.merge(ksdata, how=\"left\", on=\"GEOID\")\n",
    "\n",
    "joined = joined.sort_values(\"GEOID\")\n",
    "\n",
    "joined.head()"
   ]
  },
  {
   "cell_type": "code",
   "execution_count": 10,
   "metadata": {
    "ExecuteTime": {
     "end_time": "2019-12-04T22:03:13.870812Z",
     "start_time": "2019-12-04T22:03:13.866823Z"
    },
    "scrolled": true
   },
   "outputs": [],
   "source": [
    "new = [keys[col] if col in list(keys.keys()) else col for col in joined.columns]\n",
    "\n",
    "joined.columns = new\n",
    "    "
   ]
  },
  {
   "cell_type": "code",
   "execution_count": 11,
   "metadata": {
    "ExecuteTime": {
     "end_time": "2019-12-04T22:03:13.877835Z",
     "start_time": "2019-12-04T22:03:13.871810Z"
    }
   },
   "outputs": [
    {
     "name": "stdout",
     "output_type": "stream",
     "text": [
      "['Allen County', 'Anderson County', 'Atchison County', 'Barber County', 'Barton County', 'Bourbon County', 'Brown County', 'Butler County', 'Chase County', 'Chautauqua County', 'Cherokee County', 'Cheyenne County', 'Clark County', 'Clay County', 'Cloud County', 'Coffey County', 'Comanche County', 'Cowley County', 'Crawford County', 'Decatur County', 'Dickinson County', 'Doniphan County', 'Douglas County', 'Edwards County', 'Elk County', 'Ellis County', 'Ellsworth County', 'Finney County', 'Ford County', 'Franklin County', 'Geary County', 'Gove County', 'Graham County', 'Grant County', 'Gray County', 'Greeley County', 'Greenwood County', 'Hamilton County', 'Harper County', 'Harvey County', 'Haskell County', 'Hodgeman County', 'Jackson County', 'Jefferson County', 'Jewell County', 'Johnson County', 'Kearny County', 'Kingman County', 'Kiowa County', 'Labette County', 'Lane County', 'Leavenworth County', 'Lincoln County', 'Linn County', 'Logan County', 'Lyon County', 'McPherson County', 'Marion County', 'Marshall County', 'Meade County', 'Miami County', 'Mitchell County', 'Montgomery County', 'Morris County', 'Morton County', 'Nemaha County', 'Neosho County', 'Ness County', 'Norton County', 'Osage County', 'Osborne County', 'Ottawa County', 'Pawnee County', 'Phillips County', 'Pottawatomie County', 'Pratt County', 'Rawlins County', 'Reno County', 'Republic County', 'Rice County', 'Riley County', 'Rooks County', 'Rush County', 'Russell County', 'Saline County', 'Scott County', 'Sedgwick County', 'Seward County', 'Shawnee County', 'Sheridan County', 'Sherman County', 'Smith County', 'Stafford County', 'Stanton County', 'Stevens County', 'Sumner County', 'Thomas County', 'Trego County', 'Wabaunsee County', 'Wallace County', 'Washington County', 'Wichita County', 'Wilson County', 'Woodson County', 'Wyandotte County']\n"
     ]
    }
   ],
   "source": [
    "county_file = open('counties.txt', 'r')\n",
    "counties = county_file.read().strip()\n",
    "counties = counties.replace(' ', '').split(',')\n",
    "counties = [x + ' County' for x in counties]\n",
    "\n",
    "counties = list(joined['County Name'].unique())\n",
    "\n",
    "print(counties)\n",
    "county_file.close()\n",
    "\n"
   ]
  },
  {
   "cell_type": "code",
   "execution_count": 12,
   "metadata": {
    "ExecuteTime": {
     "end_time": "2019-12-04T22:03:13.885859Z",
     "start_time": "2019-12-04T22:03:13.878792Z"
    }
   },
   "outputs": [],
   "source": [
    "douglas = joined.loc[joined['County Name'].isin(counties)]"
   ]
  },
  {
   "cell_type": "code",
   "execution_count": 13,
   "metadata": {
    "ExecuteTime": {
     "end_time": "2019-12-04T22:03:14.599473Z",
     "start_time": "2019-12-04T22:03:13.886376Z"
    },
    "scrolled": true
   },
   "outputs": [
    {
     "data": {
      "text/plain": [
       "(2351, 125)"
      ]
     },
     "execution_count": 13,
     "metadata": {},
     "output_type": "execute_result"
    },
    {
     "data": {
      "image/png": "[encoded data removed]",
      "text/plain": [
       "<Figure size 432x288 with 1 Axes>"
      ]
     },
     "metadata": {
      "needs_background": "light"
     },
     "output_type": "display_data"
    }
   ],
   "source": [
    "douglas.plot()\n",
    "\n",
    "douglas.shape"
   ]
  },
  {
   "cell_type": "code",
   "execution_count": 14,
   "metadata": {
    "ExecuteTime": {
     "end_time": "2019-12-04T22:03:14.686251Z",
     "start_time": "2019-12-04T22:03:14.601468Z"
    }
   },
   "outputs": [
    {
     "name": "stderr",
     "output_type": "stream",
     "text": [
      "C:\\Users\\jxbox\\Anaconda3\\lib\\site-packages\\ipykernel_launcher.py:2: SettingWithCopyWarning: \n",
      "A value is trying to be set on a copy of a slice from a DataFrame\n",
      "\n",
      "See the caveats in the documentation: http://pandas.pydata.org/pandas-docs/stable/indexing.html#indexing-view-versus-copy\n",
      "  \n"
     ]
    },
    {
     "data": {
      "text/html": [
       "<div>\n",
       "<style scoped>\n",
       "    .dataframe tbody tr th:only-of-type {\n",
       "        vertical-align: middle;\n",
       "    }\n",
       "\n",
       "    .dataframe tbody tr th {\n",
       "        vertical-align: top;\n",
       "    }\n",
       "\n",
       "    .dataframe thead th {\n",
       "        text-align: right;\n",
       "    }\n",
       "</style>\n",
       "<table border=\"1\" class=\"dataframe\">\n",
       "  <thead>\n",
       "    <tr style=\"text-align: right;\">\n",
       "      <th></th>\n",
       "      <th>County Name</th>\n",
       "    </tr>\n",
       "    <tr>\n",
       "      <th>COUNTYFP</th>\n",
       "      <th></th>\n",
       "    </tr>\n",
       "  </thead>\n",
       "  <tbody>\n",
       "    <tr>\n",
       "      <th>001</th>\n",
       "      <td>Allen County</td>\n",
       "    </tr>\n",
       "    <tr>\n",
       "      <th>003</th>\n",
       "      <td>Anderson County</td>\n",
       "    </tr>\n",
       "    <tr>\n",
       "      <th>005</th>\n",
       "      <td>Atchison County</td>\n",
       "    </tr>\n",
       "    <tr>\n",
       "      <th>007</th>\n",
       "      <td>Barber County</td>\n",
       "    </tr>\n",
       "    <tr>\n",
       "      <th>009</th>\n",
       "      <td>Barton County</td>\n",
       "    </tr>\n",
       "  </tbody>\n",
       "</table>\n",
       "</div>"
      ],
      "text/plain": [
       "              County Name\n",
       "COUNTYFP                 \n",
       "001          Allen County\n",
       "003       Anderson County\n",
       "005       Atchison County\n",
       "007         Barber County\n",
       "009         Barton County"
      ]
     },
     "execution_count": 14,
     "metadata": {},
     "output_type": "execute_result"
    }
   ],
   "source": [
    "county_codes = douglas[['COUNTYFP', 'County Name']]\n",
    "county_codes.drop_duplicates(inplace=True)\n",
    "\n",
    "county_codes.set_index('COUNTYFP', inplace=True)\n",
    "\n",
    "county_codes.head()"
   ]
  },
  {
   "cell_type": "code",
   "execution_count": 15,
   "metadata": {
    "ExecuteTime": {
     "end_time": "2019-12-04T22:03:14.707184Z",
     "start_time": "2019-12-04T22:03:14.688236Z"
    }
   },
   "outputs": [
    {
     "data": {
      "text/plain": [
       "091    374\n",
       "173    369\n",
       "209    161\n",
       "177    135\n",
       "045     65\n",
       "155     59\n",
       "103     50\n",
       "161     48\n",
       "169     45\n",
       "015     42\n",
       "125     37\n",
       "037     34\n",
       "035     33\n",
       "111     32\n",
       "121     30\n",
       "055     30\n",
       "009     30\n",
       "113     29\n",
       "079     27\n",
       "191     26\n",
       "051     25\n",
       "061     25\n",
       "057     25\n",
       "059     23\n",
       "099     22\n",
       "021     21\n",
       "041     19\n",
       "133     18\n",
       "175     17\n",
       "011     16\n",
       "      ... \n",
       "097      4\n",
       "065      4\n",
       "135      4\n",
       "119      4\n",
       "105      4\n",
       "017      4\n",
       "141      4\n",
       "165      4\n",
       "179      4\n",
       "081      4\n",
       "047      4\n",
       "089      4\n",
       "023      4\n",
       "039      4\n",
       "185      4\n",
       "203      3\n",
       "129      3\n",
       "063      3\n",
       "101      3\n",
       "109      3\n",
       "033      3\n",
       "153      3\n",
       "093      3\n",
       "075      2\n",
       "071      2\n",
       "199      2\n",
       "025      2\n",
       "207      2\n",
       "187      2\n",
       "083      1\n",
       "Name: COUNTYFP, Length: 105, dtype: int64"
      ]
     },
     "execution_count": 15,
     "metadata": {},
     "output_type": "execute_result"
    }
   ],
   "source": [
    "douglas.COUNTYFP.value_counts()"
   ]
  },
  {
   "cell_type": "code",
   "execution_count": 16,
   "metadata": {
    "ExecuteTime": {
     "end_time": "2019-12-04T22:03:16.275030Z",
     "start_time": "2019-12-04T22:03:14.710203Z"
    }
   },
   "outputs": [
    {
     "data": {
      "text/plain": [
       "173    447\n",
       "091    444\n",
       "177    227\n",
       "209    111\n",
       "045     95\n",
       "015     81\n",
       "155     80\n",
       "161     71\n",
       "035     69\n",
       "169     64\n",
       "037     62\n",
       "061     61\n",
       "125     60\n",
       "121     59\n",
       "021     54\n",
       "111     53\n",
       "103     52\n",
       "009     50\n",
       "191     47\n",
       "079     44\n",
       "099     42\n",
       "051     39\n",
       "131     38\n",
       "041     36\n",
       "115     35\n",
       "117     34\n",
       "113     34\n",
       "123     33\n",
       "055     32\n",
       "057     32\n",
       "      ... \n",
       "047     13\n",
       "043     13\n",
       "107     13\n",
       "109     12\n",
       "137     12\n",
       "207     11\n",
       "195     11\n",
       "083     11\n",
       "017     11\n",
       "171     11\n",
       "135     11\n",
       "189     11\n",
       "101     10\n",
       "075     10\n",
       "129     10\n",
       "049     10\n",
       "093      9\n",
       "119      9\n",
       "063      9\n",
       "081      8\n",
       "069      8\n",
       "023      8\n",
       "025      7\n",
       "097      5\n",
       "067      5\n",
       "199      5\n",
       "033      4\n",
       "187      3\n",
       "071      3\n",
       "203      3\n",
       "Name: COUNTYFP10, Length: 105, dtype: int64"
      ]
     },
     "execution_count": 16,
     "metadata": {},
     "output_type": "execute_result"
    },
    {
     "data": {
      "image/png": "[encoded data removed]",
      "text/plain": [
       "<Figure size 432x288 with 2 Axes>"
      ]
     },
     "metadata": {
      "needs_background": "light"
     },
     "output_type": "display_data"
    }
   ],
   "source": [
    "elec = geopandas.read_file(\"elections\")\n",
    "elec.COUNTYFP10.value_counts()\n",
    "\n",
    "# elec = elec.loc[elec['COUNTYFP10'].isin([\"045\", \"059\", \"139\", \"177\", \"087\", \"103\"])]\n",
    "elec = elec.loc[elec['COUNTYFP10'].isin(list(county_codes.index))]\n",
    "elec['lean'] = elec['PRES_D_08'] / (elec['PRES_D_08'] + elec['PRES_R_08'] + 1e-10)\n",
    "\n",
    "elec.plot(\"lean\", legend=True)\n",
    "\n",
    "elec.COUNTYFP10.value_counts()"
   ]
  },
  {
   "cell_type": "code",
   "execution_count": 17,
   "metadata": {
    "ExecuteTime": {
     "end_time": "2019-12-04T22:03:58.126171Z",
     "start_time": "2019-12-04T22:03:16.276986Z"
    }
   },
   "outputs": [
    {
     "name": "stdout",
     "output_type": "stream",
     "text": [
      "[########################################] | 100% Completed | 40.6s\n"
     ]
    }
   ],
   "source": [
    "voting_age = [\"Female: 18 and 19 years\", \"Female: 20 years\", \"Female: 21 years\", \"Female: 22 to 24 years\", \n",
    "    \"Female: 25 to 29 years\", \"Female: 30 to 34 years\", \"Female: 35 to 39 years\", \"Female: 40 to 44 years\",\n",
    "    \"Female: 45 to 49 years\", \"Female: 50 to 54 years\", \"Female: 55 to 59 years\", 'Female: 60 and 61 years',\n",
    "    'Female: 62 to 64 years', 'Female: 65 and 66 years', 'Female: 67 to 69 years', 'Female: 70 to 74 years',\n",
    "    'Female: 75 to 79 years', 'Female: 80 to 84 years', 'Female: 85 years and over', 'Male: 18 and 19 years',\n",
    "    'Male: 20 years', 'Male: 21 years', 'Male: 22 to 24 years', 'Male: 25 to 29 years', 'Male: 30 to 34 years',\n",
    "    'Male: 35 to 39 years', 'Male: 40 to 44 years', 'Male: 45 to 49 years', 'Male: 50 to 54 years', 'Male: 55 to 59 years',\n",
    "    'Male: 60 and 61 years', 'Male: 62 to 64 years', 'Male: 65 and 66 years', 'Male: 67 to 69 years', 'Male: 70 to 74 years',\n",
    "    'Male: 75 to 79 years', 'Male: 80 to 84 years', 'Male: 85 years and over']\n",
    "\n",
    "def compute_votes(i):\n",
    "    r_votes = 0.0\n",
    "    d_votes = 0.0\n",
    "    for j in elec[elec['COUNTYFP10'] == i.COUNTYFP].index:\n",
    "        intersec = elec.loc[j].geometry.intersection(i.geometry).area\n",
    "        if intersec > 0: \n",
    "            inter_pct = elec.loc[j].geometry.intersection(i.geometry).area / i.geometry.area\n",
    "            elig = i[voting_age].sum()\n",
    "            r_votes += (elig * inter_pct / (elec.loc[j][\"VAP\"] + 1e-10)) * elec.loc[j][\"PRES_R_08\"]\n",
    "            d_votes += (elig * inter_pct / (elec.loc[j][\"VAP\"] + 1e-10)) * elec.loc[j][\"PRES_D_08\"]\n",
    "    if list(i['Total'])[0] < d_votes or list(i['Total'])[0] < r_votes or list(i['Total'])[0] < d_votes + r_votes:\n",
    "        r_votes *= (elig / list(i['Total'])[0])\n",
    "        d_votes *= (elig / list(i['Total'])[0])\n",
    "        \n",
    "    return (r_votes, d_votes)\n",
    "\n",
    "ddouglas = dd.from_pandas(douglas, npartitions=24)\n",
    "\n",
    "with ProgressBar():\n",
    "    douglas['vote_tuple'] = ddouglas.map_partitions(lambda df: df.apply((lambda x: compute_votes(x)), axis=1), meta=(float, float)).compute(scheduler='processes')\n",
    "\n",
    "douglas['2008_R'] = douglas.apply((lambda x: x['vote_tuple'][0]), axis=1)\n",
    "douglas['2008_D'] = douglas.apply((lambda x: x['vote_tuple'][1]), axis=1)"
   ]
  },
  {
   "cell_type": "code",
   "execution_count": 18,
   "metadata": {
    "ExecuteTime": {
     "end_time": "2019-12-04T22:03:58.142091Z",
     "start_time": "2019-12-04T22:03:58.127131Z"
    }
   },
   "outputs": [],
   "source": [
    "douglas.fillna(0.0, inplace=True)"
   ]
  },
  {
   "cell_type": "code",
   "execution_count": 19,
   "metadata": {
    "ExecuteTime": {
     "end_time": "2019-12-04T22:03:58.922051Z",
     "start_time": "2019-12-04T22:03:58.145084Z"
    }
   },
   "outputs": [
    {
     "data": {
      "image/png": "[encoded data removed]",
      "text/plain": [
       "<Figure size 432x288 with 2 Axes>"
      ]
     },
     "metadata": {
      "needs_background": "light"
     },
     "output_type": "display_data"
    }
   ],
   "source": [
    "douglas['lean'] = douglas['2008_D'] / (douglas['2008_D'] + douglas['2008_R'] + 1e-10)\n",
    "douglas.plot(\"lean\", legend=True)\n",
    "douglas.drop('lean', axis=1, inplace=True)\n",
    "douglas.drop('vote_tuple', axis=1, inplace=True)"
   ]
  },
  {
   "cell_type": "code",
   "execution_count": 20,
   "metadata": {
    "ExecuteTime": {
     "end_time": "2019-12-04T22:03:58.925001Z",
     "start_time": "2019-12-04T22:03:58.923002Z"
    }
   },
   "outputs": [],
   "source": [
    "# douglas.to_file(base_path)\n",
    "# rw = ps.rook_from_shapefile(base_path + '/' + base_path + '.shp')"
   ]
  },
  {
   "cell_type": "code",
   "execution_count": 21,
   "metadata": {
    "ExecuteTime": {
     "end_time": "2019-12-04T22:04:02.020289Z",
     "start_time": "2019-12-04T22:03:58.926035Z"
    }
   },
   "outputs": [],
   "source": [
    "rw = ps.lib.weights.Rook(list(douglas['geometry']), ids=range(len(douglas['geometry'])))"
   ]
  },
  {
   "cell_type": "code",
   "execution_count": 22,
   "metadata": {
    "ExecuteTime": {
     "end_time": "2019-12-04T22:04:02.028999Z",
     "start_time": "2019-12-04T22:04:02.022014Z"
    }
   },
   "outputs": [],
   "source": [
    "neighbors = []\n",
    "for i in rw:\n",
    "    neighbors.append(list(i[1].keys()))"
   ]
  },
  {
   "cell_type": "code",
   "execution_count": 23,
   "metadata": {
    "ExecuteTime": {
     "end_time": "2019-12-04T22:04:02.038017Z",
     "start_time": "2019-12-04T22:04:02.030991Z"
    }
   },
   "outputs": [],
   "source": [
    "pkl_file = open(base_path + '_neighbors.pkl', 'wb')\n",
    "pickle.dump(neighbors, pkl_file)\n",
    "pkl_file.close()"
   ]
  },
  {
   "cell_type": "code",
   "execution_count": 25,
   "metadata": {
    "ExecuteTime": {
     "end_time": "2019-12-04T22:04:39.788273Z",
     "start_time": "2019-12-04T22:04:38.662287Z"
    }
   },
   "outputs": [
    {
     "data": {
      "text/plain": [
       "<matplotlib.axes._subplots.AxesSubplot at 0x294a998cf60>"
      ]
     },
     "execution_count": 25,
     "metadata": {},
     "output_type": "execute_result"
    },
    {
     "data": {
      "image/png": "[encoded data removed]",
      "text/plain": [
       "<Figure size 432x288 with 1 Axes>"
      ]
     },
     "metadata": {
      "needs_background": "light"
     },
     "output_type": "display_data"
    }
   ],
   "source": [
    "block_groups = geopandas.read_file(\"occupation/nhgis0003_shape/\")\n",
    "\n",
    "occs = pd.read_csv(\"occupation/nhgis0003_csv/nhgis0004_ds176_20105_2010_blck_grp.csv\")\n",
    "occs[\"GEOID10\"] = occs.apply(lambda x:x[\"GISJOIN\"][1:2] + x[\"GISJOIN\"][3:7] + x[\"GISJOIN\"][8:], axis=1)\n",
    "\n",
    "block_groups = block_groups.merge(occs, on='GEOID10', how='left')\n",
    "\n",
    "block_groups.plot()"
   ]
  },
  {
   "cell_type": "code",
   "execution_count": 26,
   "metadata": {
    "ExecuteTime": {
     "end_time": "2019-12-04T22:04:41.268177Z",
     "start_time": "2019-12-04T22:04:40.581949Z"
    }
   },
   "outputs": [
    {
     "data": {
      "text/plain": [
       "Index(['STATEFP10', 'COUNTYFP10', 'TRACTCE10', 'BLKGRPCE10', 'GEOID10',\n",
       "       'NAMELSAD10', 'MTFCC10', 'FUNCSTAT10', 'ALAND10', 'AWATER10',\n",
       "       ...\n",
       "       'JQ5M069', 'JQ5M070', 'JQ5M071', 'JQ5M072', 'JQ5M073', 'MBSA', 'S',\n",
       "       'SO', 'NRCM', 'PTM'],\n",
       "      dtype='object', length=201)"
      ]
     },
     "execution_count": 26,
     "metadata": {},
     "output_type": "execute_result"
    },
    {
     "data": {
      "image/png": "[encoded data removed]",
      "text/plain": [
       "<Figure size 432x288 with 2 Axes>"
      ]
     },
     "metadata": {
      "needs_background": "light"
     },
     "output_type": "display_data"
    }
   ],
   "source": [
    "block_groups['MBSA'] = (block_groups['JQ5E003'] + block_groups['JQ5E039'])\n",
    "block_groups['S'] = (block_groups['JQ5E019'] + block_groups['JQ5E055'])\n",
    "block_groups['SO'] = (block_groups['JQ5E027'] + block_groups['JQ5E063'])\n",
    "block_groups['NRCM'] = (block_groups['JQ5E030'] + block_groups['JQ5E066'])\n",
    "block_groups['PTM'] = (block_groups['JQ5E034'] + block_groups['JQ5E070'])\n",
    "\n",
    "block_groups.plot(\"PTM\", legend=True)\n",
    "\n",
    "block_groups.columns"
   ]
  },
  {
   "cell_type": "code",
   "execution_count": 27,
   "metadata": {
    "ExecuteTime": {
     "end_time": "2019-12-04T22:05:27.228523Z",
     "start_time": "2019-12-04T22:04:46.170011Z"
    }
   },
   "outputs": [
    {
     "name": "stdout",
     "output_type": "stream",
     "text": [
      "[########################################] | 100% Completed | 39.9s\n",
      "finished map\n",
      "finished drop\n"
     ]
    }
   ],
   "source": [
    "work_age = [\"Male: 15 to 17 years\", \"Female: 15 to 17 years\", \"Female: 18 and 19 years\", \"Female: 20 years\", \"Female: 21 years\", \"Female: 22 to 24 years\", \n",
    "    \"Female: 25 to 29 years\", \"Female: 30 to 34 years\", \"Female: 35 to 39 years\", \"Female: 40 to 44 years\",\n",
    "    \"Female: 45 to 49 years\", \"Female: 50 to 54 years\", \"Female: 55 to 59 years\", 'Female: 60 and 61 years',\n",
    "    'Female: 62 to 64 years', 'Female: 65 and 66 years', 'Female: 67 to 69 years', 'Female: 70 to 74 years',\n",
    "    'Female: 75 to 79 years', 'Female: 80 to 84 years', 'Female: 85 years and over', 'Male: 18 and 19 years',\n",
    "    'Male: 20 years', 'Male: 21 years', 'Male: 22 to 24 years', 'Male: 25 to 29 years', 'Male: 30 to 34 years',\n",
    "    'Male: 35 to 39 years', 'Male: 40 to 44 years', 'Male: 45 to 49 years', 'Male: 50 to 54 years', 'Male: 55 to 59 years',\n",
    "    'Male: 60 and 61 years', 'Male: 62 to 64 years', 'Male: 65 and 66 years', 'Male: 67 to 69 years', 'Male: 70 to 74 years',\n",
    "    'Male: 75 to 79 years', 'Male: 80 to 84 years', 'Male: 85 years and over']\n",
    "\n",
    "def compute_occupations(i):\n",
    "    mbsa = 0.0\n",
    "    s = 0.0\n",
    "    so = 0.0\n",
    "    nrcm = 0.0\n",
    "    ptm = 0.0\n",
    "    for j in block_groups[block_groups['COUNTYFP10'] == i.COUNTYFP].index:\n",
    "        intersec = block_groups.loc[j].geometry.intersection(i.geometry).area\n",
    "        if intersec > 0 and block_groups.loc[j]['JQ5E001'] > 0: \n",
    "            inter_pct = block_groups.loc[j].geometry.intersection(i.geometry).area / i.geometry.area\n",
    "            elig = i[work_age].sum()\n",
    "            mbsa += (elig * inter_pct / (block_groups.loc[j]['JQ5E001'] + 1e-10)) * block_groups.loc[j][\"MBSA\"]\n",
    "            s += (elig * inter_pct / (block_groups.loc[j]['JQ5E001'] + 1e-10)) * block_groups.loc[j][\"S\"]\n",
    "            so += (elig * inter_pct / (block_groups.loc[j]['JQ5E001'] + 1e-10)) * block_groups.loc[j][\"SO\"]\n",
    "            nrcm += (elig * inter_pct / (block_groups.loc[j]['JQ5E001'] + 1e-10)) * block_groups.loc[j][\"NRCM\"]\n",
    "            ptm += (elig * inter_pct / (block_groups.loc[j]['JQ5E001'] + 1e-10)) * block_groups.loc[j][\"PTM\"]\n",
    "#     if list(i['Total'])[0] < d_votes or list(i['Total'])[0] < r_votes or list(i['Total'])[0] < d_votes + r_votes:\n",
    "#         r_votes *= (elig / list(i['Total'])[0])\n",
    "#         d_votes *= (elig / list(i['Total'])[0])\n",
    "        \n",
    "    return (mbsa, s, so, nrcm, ptm)\n",
    "\n",
    "ddouglas = dd.from_pandas(douglas, npartitions=24)\n",
    "\n",
    "with ProgressBar():\n",
    "    douglas['vote_tuple'] = ddouglas.map_partitions(lambda df: df.apply((lambda x: compute_occupations(x)), axis=1), meta=(float)).compute(scheduler='processes')\n",
    "\n",
    "print('finished map')\n",
    "douglas['MBSA'] = douglas.apply((lambda x: x['vote_tuple'][0]), axis=1)\n",
    "douglas['S'] = douglas.apply((lambda x: x['vote_tuple'][1]), axis=1)\n",
    "douglas['SO'] = douglas.apply((lambda x: x['vote_tuple'][2]), axis=1)\n",
    "douglas['NRCM'] = douglas.apply((lambda x: x['vote_tuple'][3]), axis=1)\n",
    "douglas['PTM'] = douglas.apply((lambda x: x['vote_tuple'][4]), axis=1)\n",
    "\n",
    "douglas.fillna(0.0, inplace=True)\n",
    "douglas.drop('vote_tuple', axis=1, inplace=True)\n",
    "print('finished drop')"
   ]
  },
  {
   "cell_type": "code",
   "execution_count": 28,
   "metadata": {
    "ExecuteTime": {
     "end_time": "2019-12-04T22:05:39.002816Z",
     "start_time": "2019-12-04T22:05:27.229483Z"
    }
   },
   "outputs": [
    {
     "name": "stderr",
     "output_type": "stream",
     "text": [
      "C:\\Users\\jxbox\\Anaconda3\\lib\\site-packages\\geopandas\\io\\file.py:108: FionaDeprecationWarning: Use fiona.Env() instead.\n",
      "  with fiona.drivers():\n"
     ]
    }
   ],
   "source": [
    "douglas.to_file(base_path)"
   ]
  },
  {
   "cell_type": "code",
   "execution_count": 29,
   "metadata": {
    "ExecuteTime": {
     "end_time": "2019-12-04T22:05:39.440722Z",
     "start_time": "2019-12-04T22:05:39.004651Z"
    }
   },
   "outputs": [],
   "source": [
    "douglas = geopandas.read_file(base_path)"
   ]
  },
  {
   "cell_type": "code",
   "execution_count": 30,
   "metadata": {
    "ExecuteTime": {
     "end_time": "2019-12-04T22:05:39.524694Z",
     "start_time": "2019-12-04T22:05:39.441716Z"
    }
   },
   "outputs": [],
   "source": [
    "douglas[\"Total_Pop\"] = douglas[\"Total\"]\n",
    "\n",
    "douglas[\"Non_His_White_Pct\"] = douglas[\"Not Hisp_1\"] / (douglas[\"Total_Pop\"] + 1e-10)\n",
    "douglas[\"His_Pct\"] = douglas[\"Hispanic o\"] / (douglas[\"Total_Pop\"] + 1e-10)\n",
    "douglas[\"Afr_Pct\"] = douglas[\"Not Hisp_2\"] / (douglas[\"Total_Pop\"] + 1e-10)\n",
    "douglas[\"NA_Pct\"] = douglas[\"Not Hisp_3\"] / (douglas[\"Total_Pop\"] + 1e-10)\n",
    "douglas[\"Asn_Pct\"] = douglas[\"Not Hisp_4\"] / (douglas[\"Total_Pop\"] + 1e-10)\n",
    "douglas[\"HA_Pct\"] = douglas[\"Not Hisp_5\"] / (douglas[\"Total_Pop\"] + 1e-10)\n",
    "douglas[\"Oth_Pct\"] = douglas[\"Not Hisp_6\"] / (douglas[\"Total_Pop\"] + 1e-10)\n",
    "douglas[\"Two_Pct\"] = douglas[\"Not Hisp_7\"] / (douglas[\"Total_Pop\"] + 1e-10)\n",
    "\n",
    "douglas[\"Urb_Pct\"] = douglas[\"Urban\"] / (douglas[\"Total_Pop\"] + 1e-10)\n",
    "douglas[\"Rur_Pct\"] = douglas[\"Rural\"] / (douglas[\"Total_Pop\"] + 1e-10)\n",
    "\n",
    "douglas['MBSA_Pct'] = douglas[\"MBSA\"] / (douglas[\"Total_Pop\"] + 1e-10)\n",
    "douglas['S_Pct'] = douglas[\"S\"] / (douglas[\"Total_Pop\"] + 1e-10)\n",
    "douglas['SO_Pct'] = douglas[\"SO\"] / (douglas[\"Total_Pop\"] + 1e-10)\n",
    "douglas['NRCM_Pct'] = douglas[\"NRCM\"] / (douglas[\"Total_Pop\"] + 1e-10)\n",
    "douglas['PTM_Pct'] = douglas[\"PTM\"] / (douglas[\"Total_Pop\"] + 1e-10)\n",
    "\n",
    "douglas['R_Pct'] = douglas['2008_R'] / (douglas['2008_R'] + douglas['2008_D'] + 1e-10)\n",
    "douglas['D_Pct'] = douglas['2008_D'] / (douglas['2008_R'] + douglas['2008_D'] + 1e-10)\n",
    "\n",
    "douglas.replace([np.inf, -np.inf], np.nan)\n",
    "\n",
    "douglas.fillna(0, inplace=True)"
   ]
  },
  {
   "cell_type": "code",
   "execution_count": 31,
   "metadata": {
    "ExecuteTime": {
     "end_time": "2019-12-04T22:05:51.618043Z",
     "start_time": "2019-12-04T22:05:46.463792Z"
    }
   },
   "outputs": [],
   "source": [
    "racial_attrs = dict([(i, np.array([douglas.loc[i].Non_His_White_Pct, \n",
    "                                   douglas.loc[i].His_Pct, douglas.loc[i].Afr_Pct, \n",
    "                                   douglas.loc[i].NA_Pct, douglas.loc[i].Asn_Pct, \n",
    "                                   douglas.loc[i].Urb_Pct, douglas.loc[i].MBSA_Pct,\n",
    "                                   douglas.loc[i].S_Pct, douglas.loc[i].SO_Pct,\n",
    "                                   douglas.loc[i].NRCM_Pct, douglas.loc[i].PTM_Pct])) for i in douglas.index])"
   ]
  },
  {
   "cell_type": "code",
   "execution_count": 32,
   "metadata": {
    "ExecuteTime": {
     "end_time": "2019-12-04T22:05:53.993390Z",
     "start_time": "2019-12-04T22:05:51.619014Z"
    }
   },
   "outputs": [],
   "source": [
    "def get_centroid(i):\n",
    "    return i.geometry.centroid\n",
    "\n",
    "# type(douglas.iloc[0].geometry.centroid)\n",
    "\n",
    "ddouglas = dd.from_pandas(douglas, npartitions=12)\n",
    "\n",
    "douglas['centroid'] = ddouglas.map_partitions(lambda df: df.apply((lambda x: get_centroid(x)), axis=1), meta=geometry.point.Point).compute(scheduler='processes')\n"
   ]
  },
  {
   "cell_type": "code",
   "execution_count": 33,
   "metadata": {
    "ExecuteTime": {
     "end_time": "2019-12-04T22:05:54.618679Z",
     "start_time": "2019-12-04T22:05:53.994349Z"
    }
   },
   "outputs": [
    {
     "name": "stdout",
     "output_type": "stream",
     "text": [
      "2351\n"
     ]
    },
    {
     "data": {
      "text/plain": [
       "matrix([[ 3.98909873e-01, -3.88060741e-01, -2.32822179e-01,\n",
       "          4.61209687e-01, -3.41189815e-01, -1.00905991e+00,\n",
       "          3.90278130e-02, -6.48904405e-01, -3.98050426e-01,\n",
       "          8.11171838e-01,  9.09164210e-01,  4.23774618e-01,\n",
       "         -6.94408789e-01, -9.52036190e+01,  3.78738289e+01,\n",
       "          2.01100000e+03],\n",
       "        [ 4.03972868e-01, -4.37388959e-01, -2.63168067e-01,\n",
       "          9.96399183e-01,  8.05472155e-02, -1.00905991e+00,\n",
       "         -6.07076680e-01,  2.40929668e-01, -2.11592719e-01,\n",
       "          8.46688555e-01,  1.01428389e+00,  3.54352686e-01,\n",
       "         -6.08885825e-01, -9.53806654e+01,  3.79871957e+01,\n",
       "          1.14100000e+03],\n",
       "        [ 4.84331549e-01, -4.13444623e-01, -3.69965606e-01,\n",
       "          7.69033630e-01, -3.89700521e-01, -1.00905991e+00,\n",
       "         -2.75241004e-01, -1.55142449e-01, -2.91793979e-02,\n",
       "          2.27850003e-01,  9.91197440e-01,  3.68477754e-01,\n",
       "         -6.69062508e-01, -9.53446424e+01,  3.79074272e+01,\n",
       "          1.03300000e+03]])"
      ]
     },
     "execution_count": 33,
     "metadata": {},
     "output_type": "execute_result"
    }
   ],
   "source": [
    "attrs = [racial_attrs[i] for i in douglas.index]\n",
    "\n",
    "centroids = [douglas.loc[i].centroid for i in douglas.index]\n",
    "xs = np.matrix([c.x for c in centroids]).T\n",
    "ys = np.matrix([c.y for c in centroids]).T\n",
    "\n",
    "attrs = np.matrix(attrs)\n",
    "\n",
    "# print(attrs.shape, xs.shape, ys.shape)\n",
    "\n",
    "minmax_xs = preprocessing.MinMaxScaler().fit_transform(xs)\n",
    "minmax_ys = preprocessing.MinMaxScaler().fit_transform(ys)\n",
    "\n",
    "attrs = np.append(attrs, minmax_xs, axis=1)\n",
    "attrs = np.append(attrs, minmax_ys, axis=1)\n",
    "\n",
    "attrs = preprocessing.RobustScaler().fit_transform(attrs)\n",
    "\n",
    "# print(attrs.shape, xs.shape, ys.shape)\n",
    "\n",
    "# xs = preprocessing.QuantileTransformer().fit_transform(xs)\n",
    "# ys = preprocessing.QuantileTransformer().fit_transform(ys)\n",
    "\n",
    "attrs = np.append(attrs, xs, axis=1)\n",
    "attrs = np.append(attrs, ys, axis=1)\n",
    "\n",
    "print(len([douglas['Total_Pop'][i] for i in douglas.index]))\n",
    "# print([douglas['Total_Pop'][i] for i in douglas.index][0])\n",
    "\n",
    "attrs = np.append(attrs, np.array([douglas['Total_Pop'][i] for i in douglas.index]).reshape(-1,1), axis=1)\n",
    "\n",
    "attrs[:3]"
   ]
  },
  {
   "cell_type": "code",
   "execution_count": 34,
   "metadata": {
    "ExecuteTime": {
     "end_time": "2019-12-04T22:06:08.054209Z",
     "start_time": "2019-12-04T22:05:54.620716Z"
    }
   },
   "outputs": [
    {
     "name": "stderr",
     "output_type": "stream",
     "text": [
      "C:\\Users\\jxbox\\Anaconda3\\lib\\site-packages\\geopandas\\io\\file.py:108: FionaDeprecationWarning: Use fiona.Env() instead.\n",
      "  with fiona.drivers():\n"
     ]
    }
   ],
   "source": [
    "douglas.drop('centroid', inplace=True, axis=1)\n",
    "\n",
    "attr_tensor = torch.from_numpy(attrs).float()\n",
    "torch.save(attr_tensor, base_path + '_data_tensor.pt')\n",
    "douglas.to_file(base_path)"
   ]
  },
  {
   "cell_type": "code",
   "execution_count": null,
   "metadata": {},
   "outputs": [],
   "source": []
  }
 ],
 "metadata": {
  "kernelspec": {
   "display_name": "Python 3",
   "language": "python",
   "name": "python3"
  },
  "language_info": {
   "codemirror_mode": {
    "name": "ipython",
    "version": 3
   },
   "file_extension": ".py",
   "mimetype": "text/x-python",
   "name": "python",
   "nbconvert_exporter": "python",
   "pygments_lexer": "ipython3",
   "version": "3.7.0"
  }
 },
 "nbformat": 4,
 "nbformat_minor": 2
}
