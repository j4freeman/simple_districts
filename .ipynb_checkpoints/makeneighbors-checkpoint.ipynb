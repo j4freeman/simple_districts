{
 "cells": [
  {
   "cell_type": "code",
   "execution_count": 1,
   "metadata": {
    "ExecuteTime": {
     "end_time": "2019-12-04T22:06:34.250401Z",
     "start_time": "2019-12-04T22:06:31.964292Z"
    }
   },
   "outputs": [],
   "source": [
    "import pandas as pd\n",
    "import numpy as np\n",
    "\n",
    "import matplotlib.pyplot as plt\n",
    "from mpl_toolkits.mplot3d import Axes3D\n",
    "\n",
    "from IPython.display import Image, Audio, clear_output\n",
    "\n",
    "import geopandas\n",
    "\n",
    "import pickle\n",
    "\n",
    "import os\n",
    "\n",
    "import re\n",
    "from textblob import TextBlob\n",
    "\n",
    "import hdbscan\n",
    "\n",
    "import pysal as ps\n",
    "\n",
    "from shapely import geometry\n",
    "\n",
    "from ast import literal_eval as make_tuple\n",
    "\n",
    "from sklearn import preprocessing\n",
    "from sklearn import decomposition\n",
    "from sklearn import cluster\n",
    "\n",
    "from zipfile import ZipFile\n",
    "\n",
    "import networkx as nx\n",
    "from networkx.algorithms import community\n",
    "import community as cm\n",
    "\n",
    "from tqdm import tnrange, tqdm_notebook, tqdm\n",
    "\n",
    "import dask.dataframe as dd\n",
    "\n",
    "import collections\n",
    "\n",
    "import torch\n",
    "import torch.nn as nn\n",
    "from torch.utils.data import DataLoader, Dataset\n",
    "\n",
    "%matplotlib inline"
   ]
  },
  {
   "cell_type": "code",
   "execution_count": 2,
   "metadata": {
    "ExecuteTime": {
     "end_time": "2019-05-18T09:52:22.213719Z",
     "start_time": "2019-05-18T09:52:18.747138Z"
    }
   },
   "outputs": [
    {
     "data": {
      "text/plain": [
       "(20158, 127)"
      ]
     },
     "execution_count": 2,
     "metadata": {},
     "output_type": "execute_result"
    }
   ],
   "source": [
    "douglas = geopandas.read_file(\"subset_counties/\")\n",
    "\n",
    "douglas.shape"
   ]
  },
  {
   "cell_type": "code",
   "execution_count": 4,
   "metadata": {
    "ExecuteTime": {
     "end_time": "2019-05-18T09:52:26.791982Z",
     "start_time": "2019-05-18T09:52:22.221659Z"
    }
   },
   "outputs": [],
   "source": [
    "rw = ps.lib.weights.Rook(list(douglas['geometry']), ids=range(len(douglas['geometry'])))"
   ]
  },
  {
   "cell_type": "code",
   "execution_count": 5,
   "metadata": {
    "ExecuteTime": {
     "end_time": "2019-05-18T09:52:26.837723Z",
     "start_time": "2019-05-18T09:52:26.792941Z"
    }
   },
   "outputs": [],
   "source": [
    "neighbors = []\n",
    "for i in rw:\n",
    "    neighbors.append(list(i[1].keys()))"
   ]
  },
  {
   "cell_type": "code",
   "execution_count": 6,
   "metadata": {
    "ExecuteTime": {
     "end_time": "2019-05-18T09:52:26.949873Z",
     "start_time": "2019-05-18T09:52:26.838718Z"
    }
   },
   "outputs": [],
   "source": [
    "pkl_file = open('subset_neighbors.pkl','wb')\n",
    "pickle.dump(neighbors, pkl_file)\n",
    "pkl_file.close()"
   ]
  },
  {
   "cell_type": "code",
   "execution_count": null,
   "metadata": {},
   "outputs": [],
   "source": []
  }
 ],
 "metadata": {
  "kernelspec": {
   "display_name": "Python 3",
   "language": "python",
   "name": "python3"
  },
  "language_info": {
   "codemirror_mode": {
    "name": "ipython",
    "version": 3
   },
   "file_extension": ".py",
   "mimetype": "text/x-python",
   "name": "python",
   "nbconvert_exporter": "python",
   "pygments_lexer": "ipython3",
   "version": "3.7.0"
  }
 },
 "nbformat": 4,
 "nbformat_minor": 2
}
